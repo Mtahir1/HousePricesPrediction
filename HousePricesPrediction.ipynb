{
  "nbformat": 4,
  "nbformat_minor": 0,
  "metadata": {
    "colab": {
      "name": "HousePricesPrediction.ipynb",
      "provenance": [],
      "collapsed_sections": [],
      "authorship_tag": "ABX9TyNjsspvJ9r8dSzDo3UR+8wR",
      "include_colab_link": true
    },
    "kernelspec": {
      "name": "python3",
      "display_name": "Python 3"
    }
  },
  "cells": [
    {
      "cell_type": "markdown",
      "metadata": {
        "id": "view-in-github",
        "colab_type": "text"
      },
      "source": [
        "<a href=\"https://colab.research.google.com/github/Mtahir1/HousePricesPrediction/blob/master/HousePricesPrediction.ipynb\" target=\"_parent\"><img src=\"https://colab.research.google.com/assets/colab-badge.svg\" alt=\"Open In Colab\"/></a>"
      ]
    },
    {
      "cell_type": "code",
      "metadata": {
        "id": "tpNE9Mhif_1d",
        "colab": {
          "base_uri": "https://localhost:8080/"
        },
        "outputId": "1ba7d857-f9a6-431b-c686-6287d1ace959"
      },
      "source": [
        "import pandas as pd\r\n",
        "from sklearn.metrics import mean_absolute_error\r\n",
        "from sklearn.model_selection import train_test_split\r\n",
        "from sklearn.tree import DecisionTreeRegressor\r\n",
        "from sklearn.ensemble import RandomForestRegressor\r\n",
        "\r\n",
        "# Load data\r\n",
        "melbourne_file_path = '../melb_data.csv' \r\n",
        "home_data = pd.read_csv(melbourne_file_path)\r\n",
        "home_data.columns\r\n",
        "\r\n"
      ],
      "execution_count": 3,
      "outputs": [
        {
          "output_type": "execute_result",
          "data": {
            "text/plain": [
              "Index(['Suburb', 'Address', 'Rooms', 'Type', 'Price', 'Method', 'SellerG',\n",
              "       'Date', 'Distance', 'Postcode', 'Bedroom2', 'Bathroom', 'Car',\n",
              "       'Landsize', 'BuildingArea', 'YearBuilt', 'CouncilArea', 'Lattitude',\n",
              "       'Longtitude', 'Regionname', 'Propertycount'],\n",
              "      dtype='object')"
            ]
          },
          "metadata": {
            "tags": []
          },
          "execution_count": 3
        }
      ]
    },
    {
      "cell_type": "code",
      "metadata": {
        "colab": {
          "base_uri": "https://localhost:8080/",
          "height": 330
        },
        "id": "vMS6oG8SR-NM",
        "outputId": "bfd98ac3-2770-4eed-b27a-592af72e68ed"
      },
      "source": [
        "# dropna drops missing values (think of na as \"not available\")\r\n",
        "home_data = home_data.dropna(axis=0)\r\n",
        "\r\n",
        "# Create target object and call it y\r\n",
        "home_data.head()\r\n",
        "\r\n"
      ],
      "execution_count": 5,
      "outputs": [
        {
          "output_type": "execute_result",
          "data": {
            "text/html": [
              "<div>\n",
              "<style scoped>\n",
              "    .dataframe tbody tr th:only-of-type {\n",
              "        vertical-align: middle;\n",
              "    }\n",
              "\n",
              "    .dataframe tbody tr th {\n",
              "        vertical-align: top;\n",
              "    }\n",
              "\n",
              "    .dataframe thead th {\n",
              "        text-align: right;\n",
              "    }\n",
              "</style>\n",
              "<table border=\"1\" class=\"dataframe\">\n",
              "  <thead>\n",
              "    <tr style=\"text-align: right;\">\n",
              "      <th></th>\n",
              "      <th>Suburb</th>\n",
              "      <th>Address</th>\n",
              "      <th>Rooms</th>\n",
              "      <th>Type</th>\n",
              "      <th>Price</th>\n",
              "      <th>Method</th>\n",
              "      <th>SellerG</th>\n",
              "      <th>Date</th>\n",
              "      <th>Distance</th>\n",
              "      <th>Postcode</th>\n",
              "      <th>Bedroom2</th>\n",
              "      <th>Bathroom</th>\n",
              "      <th>Car</th>\n",
              "      <th>Landsize</th>\n",
              "      <th>BuildingArea</th>\n",
              "      <th>YearBuilt</th>\n",
              "      <th>CouncilArea</th>\n",
              "      <th>Lattitude</th>\n",
              "      <th>Longtitude</th>\n",
              "      <th>Regionname</th>\n",
              "      <th>Propertycount</th>\n",
              "    </tr>\n",
              "  </thead>\n",
              "  <tbody>\n",
              "    <tr>\n",
              "      <th>1</th>\n",
              "      <td>Abbotsford</td>\n",
              "      <td>25 Bloomburg St</td>\n",
              "      <td>2</td>\n",
              "      <td>h</td>\n",
              "      <td>1035000.0</td>\n",
              "      <td>S</td>\n",
              "      <td>Biggin</td>\n",
              "      <td>4/02/2016</td>\n",
              "      <td>2.5</td>\n",
              "      <td>3067.0</td>\n",
              "      <td>2.0</td>\n",
              "      <td>1.0</td>\n",
              "      <td>0.0</td>\n",
              "      <td>156.0</td>\n",
              "      <td>79.0</td>\n",
              "      <td>1900.0</td>\n",
              "      <td>Yarra</td>\n",
              "      <td>-37.8079</td>\n",
              "      <td>144.9934</td>\n",
              "      <td>Northern Metropolitan</td>\n",
              "      <td>4019.0</td>\n",
              "    </tr>\n",
              "    <tr>\n",
              "      <th>2</th>\n",
              "      <td>Abbotsford</td>\n",
              "      <td>5 Charles St</td>\n",
              "      <td>3</td>\n",
              "      <td>h</td>\n",
              "      <td>1465000.0</td>\n",
              "      <td>SP</td>\n",
              "      <td>Biggin</td>\n",
              "      <td>4/03/2017</td>\n",
              "      <td>2.5</td>\n",
              "      <td>3067.0</td>\n",
              "      <td>3.0</td>\n",
              "      <td>2.0</td>\n",
              "      <td>0.0</td>\n",
              "      <td>134.0</td>\n",
              "      <td>150.0</td>\n",
              "      <td>1900.0</td>\n",
              "      <td>Yarra</td>\n",
              "      <td>-37.8093</td>\n",
              "      <td>144.9944</td>\n",
              "      <td>Northern Metropolitan</td>\n",
              "      <td>4019.0</td>\n",
              "    </tr>\n",
              "    <tr>\n",
              "      <th>4</th>\n",
              "      <td>Abbotsford</td>\n",
              "      <td>55a Park St</td>\n",
              "      <td>4</td>\n",
              "      <td>h</td>\n",
              "      <td>1600000.0</td>\n",
              "      <td>VB</td>\n",
              "      <td>Nelson</td>\n",
              "      <td>4/06/2016</td>\n",
              "      <td>2.5</td>\n",
              "      <td>3067.0</td>\n",
              "      <td>3.0</td>\n",
              "      <td>1.0</td>\n",
              "      <td>2.0</td>\n",
              "      <td>120.0</td>\n",
              "      <td>142.0</td>\n",
              "      <td>2014.0</td>\n",
              "      <td>Yarra</td>\n",
              "      <td>-37.8072</td>\n",
              "      <td>144.9941</td>\n",
              "      <td>Northern Metropolitan</td>\n",
              "      <td>4019.0</td>\n",
              "    </tr>\n",
              "    <tr>\n",
              "      <th>6</th>\n",
              "      <td>Abbotsford</td>\n",
              "      <td>124 Yarra St</td>\n",
              "      <td>3</td>\n",
              "      <td>h</td>\n",
              "      <td>1876000.0</td>\n",
              "      <td>S</td>\n",
              "      <td>Nelson</td>\n",
              "      <td>7/05/2016</td>\n",
              "      <td>2.5</td>\n",
              "      <td>3067.0</td>\n",
              "      <td>4.0</td>\n",
              "      <td>2.0</td>\n",
              "      <td>0.0</td>\n",
              "      <td>245.0</td>\n",
              "      <td>210.0</td>\n",
              "      <td>1910.0</td>\n",
              "      <td>Yarra</td>\n",
              "      <td>-37.8024</td>\n",
              "      <td>144.9993</td>\n",
              "      <td>Northern Metropolitan</td>\n",
              "      <td>4019.0</td>\n",
              "    </tr>\n",
              "    <tr>\n",
              "      <th>7</th>\n",
              "      <td>Abbotsford</td>\n",
              "      <td>98 Charles St</td>\n",
              "      <td>2</td>\n",
              "      <td>h</td>\n",
              "      <td>1636000.0</td>\n",
              "      <td>S</td>\n",
              "      <td>Nelson</td>\n",
              "      <td>8/10/2016</td>\n",
              "      <td>2.5</td>\n",
              "      <td>3067.0</td>\n",
              "      <td>2.0</td>\n",
              "      <td>1.0</td>\n",
              "      <td>2.0</td>\n",
              "      <td>256.0</td>\n",
              "      <td>107.0</td>\n",
              "      <td>1890.0</td>\n",
              "      <td>Yarra</td>\n",
              "      <td>-37.8060</td>\n",
              "      <td>144.9954</td>\n",
              "      <td>Northern Metropolitan</td>\n",
              "      <td>4019.0</td>\n",
              "    </tr>\n",
              "  </tbody>\n",
              "</table>\n",
              "</div>"
            ],
            "text/plain": [
              "       Suburb          Address  ...             Regionname Propertycount\n",
              "1  Abbotsford  25 Bloomburg St  ...  Northern Metropolitan        4019.0\n",
              "2  Abbotsford     5 Charles St  ...  Northern Metropolitan        4019.0\n",
              "4  Abbotsford      55a Park St  ...  Northern Metropolitan        4019.0\n",
              "6  Abbotsford     124 Yarra St  ...  Northern Metropolitan        4019.0\n",
              "7  Abbotsford    98 Charles St  ...  Northern Metropolitan        4019.0\n",
              "\n",
              "[5 rows x 21 columns]"
            ]
          },
          "metadata": {
            "tags": []
          },
          "execution_count": 5
        }
      ]
    },
    {
      "cell_type": "code",
      "metadata": {
        "colab": {
          "base_uri": "https://localhost:8080/"
        },
        "id": "p4lGezSbSIoZ",
        "outputId": "324f06fb-8cf4-4a1c-a5d7-e630028575ef"
      },
      "source": [
        "y = home_data.Price\r\n",
        "print(y)\r\n"
      ],
      "execution_count": 6,
      "outputs": [
        {
          "output_type": "stream",
          "text": [
            "1        1035000.0\n",
            "2        1465000.0\n",
            "4        1600000.0\n",
            "6        1876000.0\n",
            "7        1636000.0\n",
            "           ...    \n",
            "12205     601000.0\n",
            "12206    1050000.0\n",
            "12207     385000.0\n",
            "12209     560000.0\n",
            "12212    2450000.0\n",
            "Name: Price, Length: 6196, dtype: float64\n"
          ],
          "name": "stdout"
        }
      ]
    },
    {
      "cell_type": "code",
      "metadata": {
        "colab": {
          "base_uri": "https://localhost:8080/"
        },
        "id": "12SRkohhSSbT",
        "outputId": "fdfbd574-ad47-4a22-dced-0538ad709f1b"
      },
      "source": [
        "# Create X\r\n",
        "features = ['YearBuilt', 'Landsize', 'BuildingArea', 'Bedroom2', 'Bathroom']\r\n",
        "X = home_data[features]\r\n",
        "print(X)"
      ],
      "execution_count": 7,
      "outputs": [
        {
          "output_type": "stream",
          "text": [
            "       YearBuilt  Landsize  BuildingArea  Bedroom2  Bathroom\n",
            "1         1900.0     156.0         79.00       2.0       1.0\n",
            "2         1900.0     134.0        150.00       3.0       2.0\n",
            "4         2014.0     120.0        142.00       3.0       1.0\n",
            "6         1910.0     245.0        210.00       4.0       2.0\n",
            "7         1890.0     256.0        107.00       2.0       1.0\n",
            "...          ...       ...           ...       ...       ...\n",
            "12205     1996.0     972.0        149.00       3.0       2.0\n",
            "12206     1890.0     179.0        115.00       3.0       1.0\n",
            "12207     1967.0       0.0         35.64       1.0       1.0\n",
            "12209     2012.0       0.0         61.60       2.0       1.0\n",
            "12212     1920.0    1087.0        388.50       6.0       3.0\n",
            "\n",
            "[6196 rows x 5 columns]\n"
          ],
          "name": "stdout"
        }
      ]
    },
    {
      "cell_type": "code",
      "metadata": {
        "colab": {
          "base_uri": "https://localhost:8080/"
        },
        "id": "cD2Z6zVoSW6G",
        "outputId": "d448df82-0c08-41a2-e49b-f42bf26639a2"
      },
      "source": [
        "# Split into validation and training data\r\n",
        "train_X, val_X, train_y, val_y = train_test_split(X, y, random_state=1)\r\n",
        "\r\n",
        "# Specify Model\r\n",
        "iowa_model = DecisionTreeRegressor(random_state=1)\r\n",
        "# Fit Model\r\n",
        "iowa_model.fit(train_X, train_y)\r\n",
        "\r\n",
        "# Make validation predictions \r\n",
        "val_predictions = iowa_model.predict(val_X)\r\n",
        "print(val_predictions)\r\n"
      ],
      "execution_count": 10,
      "outputs": [
        {
          "output_type": "stream",
          "text": [
            "[ 950000.  880000.  967000. ... 1480000.  714000. 1905000.]\n"
          ],
          "name": "stdout"
        }
      ]
    },
    {
      "cell_type": "code",
      "metadata": {
        "colab": {
          "base_uri": "https://localhost:8080/"
        },
        "id": "TUgqlQsqSnR7",
        "outputId": "9955a754-6ad2-4017-c119-8cad731ca74c"
      },
      "source": [
        "# Calculate mean absolute error\r\n",
        "val_mae = mean_absolute_error(val_predictions, val_y)\r\n",
        "print(\"Validation MAE when not specifying max_leaf_nodes: {:,.0f}\".format(val_mae))"
      ],
      "execution_count": 11,
      "outputs": [
        {
          "output_type": "stream",
          "text": [
            "Validation MAE when not specifying max_leaf_nodes: 365,436\n"
          ],
          "name": "stdout"
        }
      ]
    },
    {
      "cell_type": "code",
      "metadata": {
        "colab": {
          "base_uri": "https://localhost:8080/"
        },
        "id": "7m_B2TbwSbwX",
        "outputId": "9800390d-def4-490f-85ba-4cb28728113e"
      },
      "source": [
        "# Using best value for max_leaf_nodes\r\n",
        "iowa_model = DecisionTreeRegressor(max_leaf_nodes=100, random_state=1)\r\n",
        "iowa_model.fit(train_X, train_y)\r\n",
        "val_predictions = iowa_model.predict(val_X)\r\n",
        "val_mae = mean_absolute_error(val_predictions, val_y)\r\n",
        "print(\"Validation MAE for best value of max_leaf_nodes: {:,.0f}\".format(val_mae))\r\n",
        "\r\n"
      ],
      "execution_count": 9,
      "outputs": [
        {
          "output_type": "stream",
          "text": [
            "Validation MAE for best value of max_leaf_nodes: 286,362\n"
          ],
          "name": "stdout"
        }
      ]
    }
  ]
}