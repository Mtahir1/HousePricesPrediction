{
  "nbformat": 4,
  "nbformat_minor": 0,
  "metadata": {
    "colab": {
      "name": "HousePricesPrediction.ipynb",
      "provenance": [],
      "collapsed_sections": []
    },
    "kernelspec": {
      "name": "python3",
      "display_name": "Python 3"
    }
  },
  "cells": [
    {
      "cell_type": "code",
      "metadata": {
        "id": "tpNE9Mhif_1d",
        "colab": {
          "base_uri": "https://localhost:8080/"
        },
        "outputId": "07c1bf4e-1ed4-4329-d2ef-075863fcc882"
      },
      "source": [
        "import pandas as pd\r\n",
        "from sklearn.metrics import mean_absolute_error\r\n",
        "from sklearn.model_selection import train_test_split\r\n",
        "from sklearn.tree import DecisionTreeRegressor\r\n",
        "from sklearn.ensemble import RandomForestRegressor\r\n",
        "\r\n",
        "# Load data\r\n",
        "melbourne_file_path = '../melb_data.csv' \r\n",
        "home_data = pd.read_csv(melbourne_file_path)\r\n",
        "home_data.columns\r\n",
        "\r\n",
        "# dropna drops missing values (think of na as \"not available\")\r\n",
        "home_data = home_data.dropna(axis=0)\r\n",
        "\r\n",
        "# Create target object and call it y\r\n",
        "home_data.head()\r\n",
        "y = home_data.Price\r\n",
        "# Create X\r\n",
        "features = ['YearBuilt', 'Landsize', 'BuildingArea', 'Bedroom2', 'Bathroom']\r\n",
        "X = home_data[features]\r\n",
        "\r\n",
        "# Split into validation and training data\r\n",
        "train_X, val_X, train_y, val_y = train_test_split(X, y, random_state=1)\r\n",
        "\r\n",
        "# Specify Model\r\n",
        "iowa_model = DecisionTreeRegressor(random_state=1)\r\n",
        "# Fit Model\r\n",
        "iowa_model.fit(train_X, train_y)\r\n",
        "\r\n",
        "# Make validation predictions and calculate mean absolute error\r\n",
        "val_predictions = iowa_model.predict(val_X)\r\n",
        "val_mae = mean_absolute_error(val_predictions, val_y)\r\n",
        "print(\"Validation MAE when not specifying max_leaf_nodes: {:,.0f}\".format(val_mae))\r\n",
        "\r\n",
        "# Using best value for max_leaf_nodes\r\n",
        "iowa_model = DecisionTreeRegressor(max_leaf_nodes=100, random_state=1)\r\n",
        "iowa_model.fit(train_X, train_y)\r\n",
        "val_predictions = iowa_model.predict(val_X)\r\n",
        "val_mae = mean_absolute_error(val_predictions, val_y)\r\n",
        "print(\"Validation MAE for best value of max_leaf_nodes: {:,.0f}\".format(val_mae))\r\n",
        "\r\n"
      ],
      "execution_count": 12,
      "outputs": [
        {
          "output_type": "stream",
          "text": [
            "Validation MAE when not specifying max_leaf_nodes: 365,436\n",
            "Validation MAE for best value of max_leaf_nodes: 286,362\n"
          ],
          "name": "stdout"
        }
      ]
    }
  ]
}